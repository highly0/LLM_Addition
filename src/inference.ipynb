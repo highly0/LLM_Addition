{
 "cells": [
  {
   "cell_type": "markdown",
   "metadata": {},
   "source": [
    "#### Mask Filling (Masked Language Modeling)"
   ]
  },
  {
   "cell_type": "code",
   "execution_count": 1,
   "metadata": {},
   "outputs": [
    {
     "name": "stderr",
     "output_type": "stream",
     "text": [
      "2023-07-25 10:23:55.072408: I tensorflow/core/platform/cpu_feature_guard.cc:193] This TensorFlow binary is optimized with oneAPI Deep Neural Network Library (oneDNN) to use the following CPU instructions in performance-critical operations:  AVX2 FMA\n",
      "To enable them in other operations, rebuild TensorFlow with the appropriate compiler flags.\n",
      "2023-07-25 10:23:55.234767: E tensorflow/stream_executor/cuda/cuda_blas.cc:2981] Unable to register cuBLAS factory: Attempting to register factory for plugin cuBLAS when one has already been registered\n",
      "2023-07-25 10:23:56.004278: W tensorflow/stream_executor/platform/default/dso_loader.cc:64] Could not load dynamic library 'libnvinfer.so.7'; dlerror: libnvinfer.so.7: cannot open shared object file: No such file or directory; LD_LIBRARY_PATH: /usr/local/nvidia/lib:/usr/local/nvidia/lib64\n",
      "2023-07-25 10:23:56.004375: W tensorflow/stream_executor/platform/default/dso_loader.cc:64] Could not load dynamic library 'libnvinfer_plugin.so.7'; dlerror: libnvinfer_plugin.so.7: cannot open shared object file: No such file or directory; LD_LIBRARY_PATH: /usr/local/nvidia/lib:/usr/local/nvidia/lib64\n",
      "2023-07-25 10:23:56.004385: W tensorflow/compiler/tf2tensorrt/utils/py_utils.cc:38] TF-TRT Warning: Cannot dlopen some TensorRT libraries. If you would like to use Nvidia GPU with TensorRT, please make sure the missing libraries mentioned above are installed properly.\n"
     ]
    }
   ],
   "source": [
    "from transformers import pipeline\n",
    "from transformers import AutoTokenizer, AutoModelForMaskedLM, AutoModelForCausalLM\n",
    "\n",
    "tokenizer = AutoTokenizer.from_pretrained(\"xlm-roberta-large\")\n",
    "model_path = \"/workspace/storage/llm_addition/train_add_decomp/xlm-roberta-large_scratch/results/checkpoint-3500\"\n",
    "model = AutoModelForMaskedLM.from_pretrained(model_path)\n",
    "mask_filler = pipeline(\"fill-mask\", model, tokenizer=tokenizer)"
   ]
  },
  {
   "cell_type": "code",
   "execution_count": 2,
   "metadata": {},
   "outputs": [
    {
     "data": {
      "text/plain": [
       "[{'score': 0.9975330829620361,\n",
       "  'token': 11062,\n",
       "  'token_str': 'Trans',\n",
       "  'sequence': 'Compute 15 plus 20. Final result = Trans'},\n",
       " {'score': 0.0007669836049899459,\n",
       "  'token': 5,\n",
       "  'token_str': '.',\n",
       "  'sequence': 'Compute 15 plus 20. Final result =.'},\n",
       " {'score': 0.00017837979248724878,\n",
       "  'token': 14012,\n",
       "  'token_str': 'number',\n",
       "  'sequence': 'Compute 15 plus 20. Final result = number'},\n",
       " {'score': 0.0001136063365265727,\n",
       "  'token': 8,\n",
       "  'token_str': 'de',\n",
       "  'sequence': 'Compute 15 plus 20. Final result = de'},\n",
       " {'score': 7.527189154643565e-05,\n",
       "  'token': 1295,\n",
       "  'token_str': 'from',\n",
       "  'sequence': 'Compute 15 plus 20. Final result = from'}]"
      ]
     },
     "execution_count": 2,
     "metadata": {},
     "output_type": "execute_result"
    }
   ],
   "source": [
    "text = \"Compute 15 plus 20. Final result = <mask>\"\n",
    "mask_filler(text)"
   ]
  },
  {
   "cell_type": "markdown",
   "metadata": {},
   "source": [
    "#### Text Generation (Casual Language Modeling)"
   ]
  },
  {
   "cell_type": "code",
   "execution_count": 24,
   "metadata": {},
   "outputs": [],
   "source": [
    "from transformers import pipeline\n",
    "from transformers import AutoTokenizer, AutoModelForMaskedLM, AutoModelForCausalLM\n",
    "\n",
    "tokenizer = AutoTokenizer.from_pretrained(\"gpt2\")\n",
    "model_path = \"/workspace/storage/llm_addition/train_add_decomp/gpt2/results/checkpoint-3500\"\n",
    "model = AutoModelForCausalLM.from_pretrained(model_path)\n",
    "text_gen = pipeline(\"text-generation\", model, tokenizer=tokenizer)"
   ]
  },
  {
   "cell_type": "code",
   "execution_count": 23,
   "metadata": {},
   "outputs": [
    {
     "name": "stderr",
     "output_type": "stream",
     "text": [
      "Setting `pad_token_id` to `eos_token_id`:50256 for open-end generation.\n"
     ]
    },
    {
     "data": {
      "text/plain": [
       "[{'generated_text': 'Compute 15 plus 20  plus 2749. Translate from number to decomposition: 20125 = 0 units, 3 tens, 4 hundreds, 0 thousands, 2 tot. Translate from number to decomposition: 2749 = 9 units,'}]"
      ]
     },
     "execution_count": 23,
     "metadata": {},
     "output_type": "execute_result"
    }
   ],
   "source": [
    "text = \"Compute 15 plus 20 \"\n",
    "text_gen(text)"
   ]
  },
  {
   "cell_type": "code",
   "execution_count": null,
   "metadata": {},
   "outputs": [],
   "source": []
  }
 ],
 "metadata": {
  "kernelspec": {
   "display_name": "Python 3",
   "language": "python",
   "name": "python3"
  },
  "language_info": {
   "codemirror_mode": {
    "name": "ipython",
    "version": 3
   },
   "file_extension": ".py",
   "mimetype": "text/x-python",
   "name": "python",
   "nbconvert_exporter": "python",
   "pygments_lexer": "ipython3",
   "version": "3.8.10"
  },
  "orig_nbformat": 4
 },
 "nbformat": 4,
 "nbformat_minor": 2
}
