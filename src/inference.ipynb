{
 "cells": [
  {
   "cell_type": "markdown",
   "metadata": {},
   "source": [
    "#### Mask Filling (Masked Language Modeling)"
   ]
  },
  {
   "cell_type": "code",
   "execution_count": 12,
   "metadata": {},
   "outputs": [
    {
     "data": {
      "text/plain": [
       "device(type='cuda')"
      ]
     },
     "execution_count": 12,
     "metadata": {},
     "output_type": "execute_result"
    }
   ],
   "source": [
    "import torch\n",
    "\n",
    "device = torch.device(\"cuda\" if torch.cuda.is_available() else \"cpu\")\n",
    "device"
   ]
  },
  {
   "cell_type": "code",
   "execution_count": 6,
   "metadata": {},
   "outputs": [],
   "source": [
    "from transformers import pipeline\n",
    "from transformers import AutoTokenizer, AutoModelForMaskedLM, AutoModelForCausalLM\n",
    "\n",
    "tokenizer = AutoTokenizer.from_pretrained(\"xlm-roberta-large\")\n",
    "model_path = \"/workspace/storage/llm_addition/train_add_decomp/xlm-roberta-large_scratch/results/checkpoint-3500\"\n",
    "model = AutoModelForMaskedLM.from_pretrained(model_path)\n",
    "mask_filler = pipeline(\"fill-mask\", model, tokenizer=tokenizer)"
   ]
  },
  {
   "cell_type": "code",
   "execution_count": 7,
   "metadata": {},
   "outputs": [
    {
     "data": {
      "text/plain": [
       "[{'score': 0.9882730841636658,\n",
       "  'token': 19309,\n",
       "  'token_str': 'late',\n",
       "  'sequence': 'Compute with pipeline 98 plus 45 =late'},\n",
       " {'score': 0.004882052540779114,\n",
       "  'token': 11062,\n",
       "  'token_str': 'Trans',\n",
       "  'sequence': 'Compute with pipeline 98 plus 45 = Trans'},\n",
       " {'score': 0.000832964782603085,\n",
       "  'token': 25072,\n",
       "  'token_str': 'unit',\n",
       "  'sequence': 'Compute with pipeline 98 plus 45 = unit'},\n",
       " {'score': 0.0006677475175820291,\n",
       "  'token': 277,\n",
       "  'token_str': 'com',\n",
       "  'sequence': 'Compute with pipeline 98 plus 45 =com'},\n",
       " {'score': 0.0006235087639652193,\n",
       "  'token': 14012,\n",
       "  'token_str': 'number',\n",
       "  'sequence': 'Compute with pipeline 98 plus 45 = number'}]"
      ]
     },
     "execution_count": 7,
     "metadata": {},
     "output_type": "execute_result"
    }
   ],
   "source": [
    "text = \"Compute with pipeline 98 plus 45 = <mask>\"\n",
    "mask_filler(text)"
   ]
  },
  {
   "cell_type": "markdown",
   "metadata": {},
   "source": [
    "### Seq2Seq"
   ]
  },
  {
   "cell_type": "code",
   "execution_count": 2,
   "metadata": {},
   "outputs": [
    {
     "name": "stderr",
     "output_type": "stream",
     "text": [
      "2023-07-28 19:04:29.658618: I tensorflow/core/platform/cpu_feature_guard.cc:193] This TensorFlow binary is optimized with oneAPI Deep Neural Network Library (oneDNN) to use the following CPU instructions in performance-critical operations:  AVX2 FMA\n",
      "To enable them in other operations, rebuild TensorFlow with the appropriate compiler flags.\n",
      "2023-07-28 19:04:29.864145: E tensorflow/stream_executor/cuda/cuda_blas.cc:2981] Unable to register cuBLAS factory: Attempting to register factory for plugin cuBLAS when one has already been registered\n",
      "2023-07-28 19:04:30.464534: W tensorflow/stream_executor/platform/default/dso_loader.cc:64] Could not load dynamic library 'libnvinfer.so.7'; dlerror: libnvinfer.so.7: cannot open shared object file: No such file or directory; LD_LIBRARY_PATH: /usr/local/nvidia/lib:/usr/local/nvidia/lib64\n",
      "2023-07-28 19:04:30.464606: W tensorflow/stream_executor/platform/default/dso_loader.cc:64] Could not load dynamic library 'libnvinfer_plugin.so.7'; dlerror: libnvinfer_plugin.so.7: cannot open shared object file: No such file or directory; LD_LIBRARY_PATH: /usr/local/nvidia/lib:/usr/local/nvidia/lib64\n",
      "2023-07-28 19:04:30.464613: W tensorflow/compiler/tf2tensorrt/utils/py_utils.cc:38] TF-TRT Warning: Cannot dlopen some TensorRT libraries. If you would like to use Nvidia GPU with TensorRT, please make sure the missing libraries mentioned above are installed properly.\n",
      "/usr/local/lib/python3.8/dist-packages/transformers/models/t5/tokenization_t5_fast.py:155: FutureWarning: This tokenizer was incorrectly instantiated with a model max length of 512 which will be corrected in Transformers v5.\n",
      "For now, this behavior is kept to avoid breaking backwards compatibility when padding/encoding with `truncation is True`.\n",
      "- Be aware that you SHOULD NOT rely on t5-large automatically truncating your input to 512 when padding/encoding.\n",
      "- If you want to encode/pad to sequences longer than 512 you can either instantiate this tokenizer with `model_max_length` or pass `max_length` when encoding/padding.\n",
      "- To avoid this warning, please instantiate this tokenizer with `model_max_length` set to your preferred value.\n",
      "  warnings.warn(\n"
     ]
    }
   ],
   "source": [
    "from transformers import T5ForConditionalGeneration, AutoTokenizer\n",
    "from transformers import pipeline\n",
    "\n",
    "path = \"/workspace/storage/llm_addition/train/t5-large_scratch_updated/results/best_checkpoint\"\n",
    "model = T5ForConditionalGeneration.from_pretrained(path).to(device)\n",
    "tokenizer = AutoTokenizer.from_pretrained(\"t5-large\")"
   ]
  },
  {
   "cell_type": "code",
   "execution_count": 29,
   "metadata": {},
   "outputs": [
    {
     "data": {
      "text/plain": [
       "['0000000000000000125000000000000000003410',\n",
       " '0000000000000000125000000000000000003410',\n",
       " '0000000000000000125000000000000000003410',\n",
       " '0000000000000000125000000000000000003410',\n",
       " '0000000000000000125000000000000000003410',\n",
       " '0000000000000000125000000000000000003410',\n",
       " '0000000000000000125000000000000000003410',\n",
       " '0000000000000000125000000000000000003410',\n",
       " '0000000000000000125000000000000000003410',\n",
       " '0000000000000000125000000000000000003410',\n",
       " '0000000000000000125000000000000000003410',\n",
       " '0000000000000000125000000000000000003410',\n",
       " '0000000000000000125000000000000000003410',\n",
       " '0000000000000000125000000000000000003410',\n",
       " '0000000000000000125000000000000000003410',\n",
       " '0000000000000000125000000000000000003410',\n",
       " '0000000000000000125000000000000000003410',\n",
       " '0000000000000000125000000000000000003410',\n",
       " '0000000000000000125000000000000000003410',\n",
       " '0000000000000000125000000000000000003410',\n",
       " '0000000000000000125000000000000000003410',\n",
       " '0000000000000000125000000000000000003410',\n",
       " '0000000000000000125000000000000000003410',\n",
       " '0000000000000000125000000000000000003410',\n",
       " '0000000000000000125000000000000000003410',\n",
       " '0000000000000000125000000000000000003410',\n",
       " '0000000000000000125000000000000000003410',\n",
       " '0000000000000000125000000000000000003410',\n",
       " '0000000000000000125000000000000000003410',\n",
       " '0000000000000000125000000000000000003410',\n",
       " '0000000000000000125000000000000000003410',\n",
       " '0000000000000000125000000000000000003410',\n",
       " '0000000000000000125000000000000000003410',\n",
       " '0000000000000000125000000000000000003410',\n",
       " '0000000000000000125000000000000000003410',\n",
       " '0000000000000000125000000000000000003410',\n",
       " '0000000000000000125000000000000000003410',\n",
       " '0000000000000000125000000000000000003410',\n",
       " '0000000000000000125000000000000000003410',\n",
       " '0000000000000000125000000000000000003410',\n",
       " '0000000000000000125000000000000000003410',\n",
       " '0000000000000000125000000000000000003410',\n",
       " '0000000000000000125000000000000000003410',\n",
       " '0000000000000000125000000000000000003410',\n",
       " '0000000000000000125000000000000000003410',\n",
       " '0000000000000000125000000000000000003410',\n",
       " '0000000000000000125000000000000000003410',\n",
       " '0000000000000000125000000000000000003410',\n",
       " '0000000000000000125000000000000000003410',\n",
       " '0000000000000000125000000000000000003410',\n",
       " '0000000000000000125000000000000000003410',\n",
       " '0000000000000000125000000000000000003410',\n",
       " '0000000000000000125000000000000000003410',\n",
       " '0000000000000000125000000000000000003410',\n",
       " '0000000000000000125000000000000000003410',\n",
       " '0000000000000000125000000000000000003410',\n",
       " '0000000000000000125000000000000000003410',\n",
       " '0000000000000000125000000000000000003410',\n",
       " '0000000000000000125000000000000000003410',\n",
       " '0000000000000000125000000000000000003410',\n",
       " '0000000000000000125000000000000000003410',\n",
       " '0000000000000000125000000000000000003410',\n",
       " '0000000000000000125000000000000000003410',\n",
       " '0000000000000000125000000000000000003410']"
      ]
     },
     "execution_count": 29,
     "metadata": {},
     "output_type": "execute_result"
    }
   ],
   "source": [
    "n1 = \"1250\"\n",
    "n2 = \"3410\"\n",
    "\n",
    "max_len = 20\n",
    "n1_filler = \"0\" * (max_len - len(n1))\n",
    "n2_filler = \"0\" * (max_len - len(n2))\n",
    "\n",
    "prompt = f\"{n1_filler}{n1}{n2_filler}{n2}\"\n",
    "prompts = [prompt] * 64\n",
    "prompts"
   ]
  },
  {
   "cell_type": "code",
   "execution_count": 30,
   "metadata": {},
   "outputs": [
    {
     "name": "stdout",
     "output_type": "stream",
     "text": [
      "['<pad> 000000000000000000662</s>', '<pad> 000000000000000000662</s>', '<pad> 000000000000000000662</s>', '<pad> 000000000000000000662</s>', '<pad> 000000000000000000662</s>', '<pad> 000000000000000000662</s>', '<pad> 000000000000000000662</s>', '<pad> 000000000000000000662</s>', '<pad> 000000000000000000662</s>', '<pad> 000000000000000000662</s>', '<pad> 000000000000000000662</s>', '<pad> 000000000000000000662</s>', '<pad> 000000000000000000662</s>', '<pad> 000000000000000000662</s>', '<pad> 000000000000000000662</s>', '<pad> 000000000000000000662</s>', '<pad> 000000000000000000662</s>', '<pad> 000000000000000000662</s>', '<pad> 000000000000000000662</s>', '<pad> 000000000000000000662</s>', '<pad> 000000000000000000662</s>', '<pad> 000000000000000000662</s>', '<pad> 000000000000000000662</s>', '<pad> 000000000000000000662</s>', '<pad> 000000000000000000662</s>', '<pad> 000000000000000000662</s>', '<pad> 000000000000000000662</s>', '<pad> 000000000000000000662</s>', '<pad> 000000000000000000662</s>', '<pad> 000000000000000000662</s>', '<pad> 000000000000000000662</s>', '<pad> 000000000000000000662</s>', '<pad> 000000000000000000662</s>', '<pad> 000000000000000000662</s>', '<pad> 000000000000000000662</s>', '<pad> 000000000000000000662</s>', '<pad> 000000000000000000662</s>', '<pad> 000000000000000000662</s>', '<pad> 000000000000000000662</s>', '<pad> 000000000000000000662</s>', '<pad> 000000000000000000662</s>', '<pad> 000000000000000000662</s>', '<pad> 000000000000000000662</s>', '<pad> 000000000000000000662</s>', '<pad> 000000000000000000662</s>', '<pad> 000000000000000000662</s>', '<pad> 000000000000000000662</s>', '<pad> 000000000000000000662</s>', '<pad> 000000000000000000662</s>', '<pad> 000000000000000000662</s>', '<pad> 000000000000000000662</s>', '<pad> 000000000000000000662</s>', '<pad> 000000000000000000662</s>', '<pad> 000000000000000000662</s>', '<pad> 000000000000000000662</s>', '<pad> 000000000000000000662</s>', '<pad> 000000000000000000662</s>', '<pad> 000000000000000000662</s>', '<pad> 000000000000000000662</s>', '<pad> 000000000000000000662</s>', '<pad> 000000000000000000662</s>', '<pad> 000000000000000000662</s>', '<pad> 000000000000000000662</s>', '<pad> 000000000000000000662</s>']\n"
     ]
    }
   ],
   "source": [
    "import re\n",
    "\n",
    "input_ids = tokenizer(prompts, return_tensors=\"pt\")['input_ids'].to(device)\n",
    "preds = model.generate(input_ids)\n",
    "decoded_preds = tokenizer.batch_decode(preds)\n",
    "print(decoded_preds)\n",
    "#pred_number = int(re.findall(r\"\\d+\", decoded_preds)[0])\n",
    "#pred_number, int(n1) + int(n2)"
   ]
  },
  {
   "cell_type": "code",
   "execution_count": null,
   "metadata": {},
   "outputs": [],
   "source": []
  }
 ],
 "metadata": {
  "kernelspec": {
   "display_name": "Python 3",
   "language": "python",
   "name": "python3"
  },
  "language_info": {
   "codemirror_mode": {
    "name": "ipython",
    "version": 3
   },
   "file_extension": ".py",
   "mimetype": "text/x-python",
   "name": "python",
   "nbconvert_exporter": "python",
   "pygments_lexer": "ipython3",
   "version": "3.8.10"
  },
  "orig_nbformat": 4
 },
 "nbformat": 4,
 "nbformat_minor": 2
}
